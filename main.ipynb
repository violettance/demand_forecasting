{
 "cells": [
  {
   "cell_type": "markdown",
   "metadata": {},
   "source": [
    "## Univariate Time Series with Prophet"
   ]
  },
  {
   "cell_type": "markdown",
   "metadata": {},
   "source": [
    "### Importing time series"
   ]
  },
  {
   "cell_type": "code",
   "execution_count": 55,
   "metadata": {},
   "outputs": [],
   "source": [
    "import pandas as pd\n",
    "from prophet import Prophet"
   ]
  },
  {
   "cell_type": "markdown",
   "metadata": {},
   "source": [
    "### Read CSV file"
   ]
  },
  {
   "cell_type": "code",
   "execution_count": 56,
   "metadata": {},
   "outputs": [],
   "source": [
    "# Read UA csv data\n",
    "df = pd.read_csv('ua_data.csv', thousands=',', quotechar='\"', header=0)"
   ]
  },
  {
   "cell_type": "markdown",
   "metadata": {},
   "source": [
    "### Data cleaning"
   ]
  },
  {
   "cell_type": "code",
   "execution_count": 57,
   "metadata": {},
   "outputs": [],
   "source": [
    "# Convert the Date column to a datetime object\n",
    "df['Date'] = pd.to_datetime(df['Date'], format='%Y%m%d')"
   ]
  },
  {
   "cell_type": "code",
   "execution_count": 58,
   "metadata": {},
   "outputs": [],
   "source": [
    "# Remove the 'TRY' prefix and commas, then convert the column to float\n",
    "df['Revenue'] = df['Revenue'].str.replace('TRY', '').str.replace(',', '').astype(float)"
   ]
  },
  {
   "cell_type": "code",
   "execution_count": 59,
   "metadata": {},
   "outputs": [
    {
     "name": "stdout",
     "output_type": "stream",
     "text": [
      "Date                      datetime64[ns]\n",
      "Revenue                          float64\n",
      "Quantity                           int64\n",
      "Unique Purchases                   int64\n",
      "Quantity Added To Cart             int64\n",
      "dtype: object\n"
     ]
    }
   ],
   "source": [
    "# Show column types\n",
    "print(df.dtypes)"
   ]
  },
  {
   "cell_type": "code",
   "execution_count": 60,
   "metadata": {},
   "outputs": [],
   "source": [
    "# Create a new DataFrame containing only the 'Quantity' and 'Date' columns\n",
    "new_df = df[['Date', 'Quantity']]"
   ]
  },
  {
   "cell_type": "code",
   "execution_count": 61,
   "metadata": {},
   "outputs": [],
   "source": [
    "# Rename the columns\n",
    "new_df = new_df.rename(columns={'Date': 'ds', 'Quantity': 'y'})"
   ]
  },
  {
   "cell_type": "code",
   "execution_count": 62,
   "metadata": {},
   "outputs": [],
   "source": [
    "# Check date values\n",
    "# df[df[\"Date\"] == \"2022-11-25\"]"
   ]
  },
  {
   "cell_type": "markdown",
   "metadata": {},
   "source": [
    "### Prophet model implementation"
   ]
  },
  {
   "cell_type": "code",
   "execution_count": 63,
   "metadata": {},
   "outputs": [
    {
     "name": "stderr",
     "output_type": "stream",
     "text": [
      "15:16:51 - cmdstanpy - INFO - Chain [1] start processing\n",
      "15:16:51 - cmdstanpy - INFO - Chain [1] done processing\n"
     ]
    },
    {
     "data": {
      "text/plain": [
       "<prophet.forecaster.Prophet at 0x149019250>"
      ]
     },
     "execution_count": 63,
     "metadata": {},
     "output_type": "execute_result"
    }
   ],
   "source": [
    "# Initialize the Prophet model\n",
    "m = Prophet()\n",
    "\n",
    "# Fit the model to the data in new_df\n",
    "m.fit(new_df)"
   ]
  },
  {
   "cell_type": "code",
   "execution_count": 64,
   "metadata": {},
   "outputs": [],
   "source": [
    "# Create a DataFrame that extends into the future for 365 days\n",
    "future = m.make_future_dataframe(periods=60)\n",
    "# future.tail()"
   ]
  },
  {
   "cell_type": "code",
   "execution_count": 65,
   "metadata": {},
   "outputs": [],
   "source": [
    "# Generate forecasts for the dates in the 'future' DataFrame\n",
    "# forecast = m.predict(future)\n",
    "# forecast[['ds', 'yhat', 'yhat_lower', 'yhat_upper']].tail()"
   ]
  },
  {
   "cell_type": "markdown",
   "metadata": {},
   "source": [
    "### Forecasting"
   ]
  },
  {
   "cell_type": "code",
   "execution_count": 66,
   "metadata": {},
   "outputs": [],
   "source": [
    "# Generate a plot to visualize the forecast data\n",
    "# fig1 = m.plot(forecast)"
   ]
  },
  {
   "cell_type": "code",
   "execution_count": 67,
   "metadata": {},
   "outputs": [],
   "source": [
    "# Generate a plot to visualize the forecast data\n",
    "# fig2 = m.plot_components(forecast)"
   ]
  },
  {
   "cell_type": "markdown",
   "metadata": {},
   "source": [
    "### Black Friday"
   ]
  },
  {
   "cell_type": "code",
   "execution_count": 68,
   "metadata": {},
   "outputs": [],
   "source": [
    "# Filter the forecast DataFrame to find the row for November 24th\n",
    "# forecast_2023 = forecast[forecast['ds'] == '2023-11-24']\n",
    "# forecast_2023"
   ]
  },
  {
   "cell_type": "code",
   "execution_count": 69,
   "metadata": {},
   "outputs": [],
   "source": [
    "# Get columns\n",
    "# bf_2023 = forecast_2023[['ds', 'yhat']]\n",
    "\n",
    "# Rename yhat column\n",
    "# bf_2023.rename(columns={'yhat': 'y'}, inplace=True)"
   ]
  },
  {
   "cell_type": "code",
   "execution_count": 70,
   "metadata": {},
   "outputs": [],
   "source": [
    "# new_df[new_df['ds'] == '2021-11-26']"
   ]
  },
  {
   "cell_type": "code",
   "execution_count": 71,
   "metadata": {},
   "outputs": [],
   "source": [
    "bf_2021 = new_df[new_df['ds'] == '2021-11-26']\n",
    "bf_2022 = new_df[new_df['ds'] == '2022-11-25']"
   ]
  },
  {
   "cell_type": "code",
   "execution_count": 72,
   "metadata": {},
   "outputs": [],
   "source": [
    "# black_friday = pd.concat([bf_2021, bf_2022, bf_2023], ignore_index=True)\n",
    "# black_friday"
   ]
  },
  {
   "cell_type": "code",
   "execution_count": 73,
   "metadata": {},
   "outputs": [],
   "source": [
    "# Change of quantities\n",
    "# black_friday['y_percent_change'] = black_friday['y'].pct_change() * 100\n",
    "# black_friday"
   ]
  },
  {
   "cell_type": "markdown",
   "metadata": {},
   "source": [
    "In Black Friday, we anticipate a 47% decrease in the number of products sold compared to the previous year."
   ]
  },
  {
   "cell_type": "markdown",
   "metadata": {},
   "source": [
    "### Experiment"
   ]
  },
  {
   "cell_type": "code",
   "execution_count": 74,
   "metadata": {},
   "outputs": [],
   "source": [
    "# Date ranges\n",
    "start_date = '2021-10-12'\n",
    "end_date = '2022-10-11'\n",
    "\n",
    "date_range = pd.date_range(start=start_date, end=end_date)\n",
    "\n",
    "# Sum of quantities\n",
    "total_y = 0\n",
    "for date in date_range:\n",
    "    date_str = date.strftime('%Y-%m-%d')\n",
    "    y_value = new_df[new_df['ds'] == date_str]['y'].values[0]\n",
    "    total_y += y_value\n",
    "\n",
    "\n",
    "# total_y"
   ]
  },
  {
   "cell_type": "code",
   "execution_count": 75,
   "metadata": {},
   "outputs": [],
   "source": [
    "# Date ranges\n",
    "start_date = '2022-10-11'\n",
    "end_date = '2023-10-11'\n",
    "\n",
    "date_range = pd.date_range(start=start_date, end=end_date)\n",
    "\n",
    "# Sum of quantities\n",
    "total_y_y = 0\n",
    "for date in date_range:\n",
    "    date_str = date.strftime('%Y-%m-%d')\n",
    "    y_value = new_df[new_df['ds'] == date_str]['y'].values[0]\n",
    "    total_y_y += y_value\n",
    "\n",
    "\n",
    "# total_y_y"
   ]
  },
  {
   "cell_type": "code",
   "execution_count": 76,
   "metadata": {},
   "outputs": [],
   "source": [
    "# Percentage changes by year\n",
    "percent_change = ((total_y_y - total_y) / total_y) * 100\n",
    "# percent_change"
   ]
  },
  {
   "cell_type": "markdown",
   "metadata": {},
   "source": [
    "### Interactive figures"
   ]
  },
  {
   "cell_type": "code",
   "execution_count": 77,
   "metadata": {},
   "outputs": [],
   "source": [
    "from prophet.plot import plot_plotly, plot_components_plotly\n",
    "\n",
    "# plot_plotly(m, forecast)"
   ]
  },
  {
   "cell_type": "code",
   "execution_count": 78,
   "metadata": {},
   "outputs": [],
   "source": [
    "# plot_components_plotly(m, forecast)"
   ]
  }
 ],
 "metadata": {
  "kernelspec": {
   "display_name": "base",
   "language": "python",
   "name": "python3"
  },
  "language_info": {
   "codemirror_mode": {
    "name": "ipython",
    "version": 3
   },
   "file_extension": ".py",
   "mimetype": "text/x-python",
   "name": "python",
   "nbconvert_exporter": "python",
   "pygments_lexer": "ipython3",
   "version": "3.11.5"
  }
 },
 "nbformat": 4,
 "nbformat_minor": 2
}
